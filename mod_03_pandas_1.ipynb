{
  "nbformat": 4,
  "nbformat_minor": 0,
  "metadata": {
    "colab": {
      "provenance": []
    },
    "kernelspec": {
      "name": "python3",
      "display_name": "Python 3"
    },
    "language_info": {
      "name": "python"
    }
  },
  "cells": [
    {
      "cell_type": "code",
      "execution_count": null,
      "metadata": {
        "id": "UH62Xjj53UCV"
      },
      "outputs": [],
      "source": [
        "#%% importa biblotecas e filtra warnings\n",
        "import pandas as pd\n",
        "\n",
        "import warnings\n",
        "warnings.filterwarnings('ignore')"
      ]
    },
    {
      "cell_type": "code",
      "source": [
        "from google.colab import drive\n",
        "drive.mount('/content/drive')"
      ],
      "metadata": {
        "id": "zYSVgbhg6Omg"
      },
      "execution_count": null,
      "outputs": []
    },
    {
      "cell_type": "code",
      "source": [
        "#%% importa sheet 0 da folha excel\n",
        "filepath = 'sampledata.xls'\n",
        "df1 = pd.read_excel(filepath, sheet_name = 0)"
      ],
      "metadata": {
        "id": "GBiQDj204Czn"
      },
      "execution_count": null,
      "outputs": []
    },
    {
      "cell_type": "code",
      "source": [
        "#%% renomeia colunas\n",
        "df1.rename(columns={'OrderDate':'Order_Date'}, inplace=True)\n",
        "df1.rename(columns={'Unit Cost':'Unit_Cost'}, inplace=True)"
      ],
      "metadata": {
        "id": "N3Y734bV4CAB"
      },
      "execution_count": null,
      "outputs": []
    },
    {
      "cell_type": "code",
      "source": [
        "#%% informação da dataframe\n",
        "df1.head()\n",
        "df1.tail()\n",
        "df1.info()"
      ],
      "metadata": {
        "id": "yRTEjgOH4A3a"
      },
      "execution_count": null,
      "outputs": []
    },
    {
      "cell_type": "code",
      "source": [
        "#%% estatística sumária\n",
        "df1.describe()\n",
        "df1[['Units','Total']].describe()"
      ],
      "metadata": {
        "id": "CnuDj7JE3vml"
      },
      "execution_count": null,
      "outputs": []
    },
    {
      "cell_type": "code",
      "source": [
        "#%% muda formatação do output\n",
        "pd.set_option('display.float_format', lambda x: '%.2f' % x)"
      ],
      "metadata": {
        "id": "eRiPmJMs3uh3"
      },
      "execution_count": null,
      "outputs": []
    },
    {
      "cell_type": "code",
      "source": [
        "#%% selecciona linhas\n",
        "df1[0:3]\n",
        "\n",
        "# remove coluna\n",
        "df1.drop(['Total'], axis = 1, inplace = True)"
      ],
      "metadata": {
        "id": "uKmRoYvY3ts6"
      },
      "execution_count": null,
      "outputs": []
    },
    {
      "cell_type": "code",
      "source": [
        "#%% operações entre colunas\n",
        "df1['New_Total'] = df1['Units'] * df1['Unit_Cost'] # basic operation\n",
        "df1['New_Total'].head()"
      ],
      "metadata": {
        "id": "xBachHPg3s5O"
      },
      "execution_count": null,
      "outputs": []
    },
    {
      "cell_type": "code",
      "source": [
        "#%% selecciona linhas de acordo com critério\n",
        "df1.query(\"Region == 'East'\")\n",
        "df1.query(\"(Region == 'East') & (Units < 10)\")"
      ],
      "metadata": {
        "id": "SYyV5SuN3sFp"
      },
      "execution_count": null,
      "outputs": []
    },
    {
      "cell_type": "code",
      "source": [
        "#%% reindexa para data\n",
        "df1.set_index('Order_Date', inplace=True)"
      ],
      "metadata": {
        "id": "d-VVNNg43rS6"
      },
      "execution_count": null,
      "outputs": []
    },
    {
      "cell_type": "code",
      "source": [
        "#%% selecciona por intervalo de data\n",
        "df1.loc['2018-10-1':'2018-12-31']\n",
        "df1.loc['2019-02']"
      ],
      "metadata": {
        "id": "Go1auB_f3qi1"
      },
      "execution_count": null,
      "outputs": []
    },
    {
      "cell_type": "code",
      "source": [
        "#%% resamplagem por data\n",
        "df1.resample('Y').sum()\n",
        "df1.resample('M').sum()\n",
        "df1.resample('3M').sum()\n",
        "\n",
        "bimonthly = df1.resample('2M').mean()"
      ],
      "metadata": {
        "id": "eCAi2roC3p2X"
      },
      "execution_count": null,
      "outputs": []
    },
    {
      "cell_type": "code",
      "source": [
        "#%% agrupa por valores de coluna e calcula estatística\n",
        "df1.groupby(['Region']).sum()\n",
        "df1.groupby(['Region','Rep']).sum()\n",
        "df1.groupby(['Region','Rep']).Units.agg(['sum', 'min', 'max', 'mean'])"
      ],
      "metadata": {
        "id": "1jYatjfh3nu2"
      },
      "execution_count": null,
      "outputs": []
    },
    {
      "cell_type": "code",
      "source": [
        "#%% PLOTTING ####\n",
        "#-----------------\n",
        "import seaborn as sns\n",
        "sns.set()\n",
        "\n",
        "df1['Units'].plot() # x=indice, y=valor\n",
        "\n",
        "df1['Units'].plot.hist(stacked=False, bins=10) # histograma\n",
        "\n",
        "df1.plot.scatter(x='Units', y='New_Total') # scatter plot\n",
        "\n",
        "# start and end of the date range to extract\n",
        "start, end = '2018-05', '2019-05'\n",
        "\n",
        "# plot daily and weekly resampled time series together\n",
        "import matplotlib.pyplot as plt\n",
        "\n",
        "fig, ax = plt.subplots()\n",
        "ax.plot(df1.loc[start:end, 'Units'],\n",
        "marker='.', linestyle='-', linewidth=0.5, label='Quinzenal')\n",
        "ax.plot(bimonthly.loc[start:end, 'Units'],\n",
        "marker='o', markersize=8, linestyle='-', label='Bimestral')\n",
        "ax.set_ylabel('Unidades Vendidas')\n",
        "ax.legend()\n",
        "\n",
        "# exportar dataframe\n",
        "df1.to_csv('exportdata.txt')"
      ],
      "metadata": {
        "id": "Oubcgxfp3ms4"
      },
      "execution_count": null,
      "outputs": []
    }
  ]
}