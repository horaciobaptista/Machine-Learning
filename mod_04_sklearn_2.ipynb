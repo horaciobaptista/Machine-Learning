{
  "nbformat": 4,
  "nbformat_minor": 0,
  "metadata": {
    "colab": {
      "provenance": [],
      "authorship_tag": "ABX9TyNDs71D3ozsWiTVaH90ydVw",
      "include_colab_link": true
    },
    "kernelspec": {
      "name": "python3",
      "display_name": "Python 3"
    },
    "language_info": {
      "name": "python"
    }
  },
  "cells": [
    {
      "cell_type": "markdown",
      "metadata": {
        "id": "view-in-github",
        "colab_type": "text"
      },
      "source": [
        "<a href=\"https://colab.research.google.com/github/horaciobaptista/Scikit-Learn/blob/main/mod_04_sklearn_2.ipynb\" target=\"_parent\"><img src=\"https://colab.research.google.com/assets/colab-badge.svg\" alt=\"Open In Colab\"/></a>"
      ]
    },
    {
      "cell_type": "code",
      "execution_count": 1,
      "metadata": {
        "id": "8a-O5HwQCjlG"
      },
      "outputs": [],
      "source": [
        "#%% 01. importar modulos\n",
        "import warnings\n",
        "warnings.filterwarnings('ignore')\n",
        "\n",
        "import pandas as pd"
      ]
    },
    {
      "cell_type": "code",
      "source": [
        "#%% 02. importar folha de excel\n",
        "filepath = 'winequality.xls'\n",
        "\n",
        "df = pd.read_excel(filepath, sheet_name = 0)"
      ],
      "metadata": {
        "id": "PyTiuF55DImM"
      },
      "execution_count": 7,
      "outputs": []
    },
    {
      "cell_type": "code",
      "source": [
        "#%% 03. gerar relatorio para escolha de paramateros - mudar working directory\n",
        "import pandas_profiling # atencao: pode entrar em conflito com o seaborn\n",
        "profile = pandas_profiling.ProfileReport(df, title='Relatório dos Dados')\n",
        "profile.to_file(\"relatorio.html\")"
      ],
      "metadata": {
        "id": "HQ8b55pfDPSG"
      },
      "execution_count": null,
      "outputs": []
    },
    {
      "cell_type": "code",
      "source": [
        "#%% 04. renomear colunas\n",
        "df.rename(columns={'type':'tipo'}, inplace=True)\n",
        "df.rename(columns={'quality':'qualidade'}, inplace=True)"
      ],
      "metadata": {
        "id": "TmzV7LuVDS4a"
      },
      "execution_count": null,
      "outputs": []
    },
    {
      "cell_type": "code",
      "source": [
        "#%% 05. selecionar por criterio e converter target para binario\n",
        "red   = df.loc[df['tipo'].isin(['red'])]\n",
        "white = df.loc[df['tipo'].isin(['white'])]\n",
        "\n",
        "white['vintage'] = (white['qualidade'] >= 7).astype(int)\n",
        "white['vintage'].sum()\n"
      ],
      "metadata": {
        "id": "LqxeVHyrDcHp"
      },
      "execution_count": null,
      "outputs": []
    },
    {
      "cell_type": "code",
      "source": [
        "\n",
        "\n",
        "#%% 07. visualizacoes seaborn\n",
        "import seaborn as sns\n",
        "\n",
        "# seaborn jointplot { “scatter” | “kde” | “hist” | “hex” | “reg” | “resid” }\n",
        "sns.jointplot(x='density', y='pH', data=white, kind=\"scatter\")\n",
        "sns.jointplot(x='density', y='pH', data=white, hue='vintage', kind=\"kde\")\n",
        "\n",
        "# seaborn pairplot\n",
        "vars = ['density', 'pH', 'alcohol']\n",
        "sns.pairplot(white, vars=vars, hue='vintage', kind='kde')\n",
        "\n",
        "# seaborn heatmap (correlacao)\n",
        "white.corr()\n",
        "sns.heatmap(white.corr())\n",
        "sns.heatmap(white.corr(), annot=True, cmap='RdBu')\n",
        "\n"
      ],
      "metadata": {
        "id": "QF7ZYA5WDqVm"
      },
      "execution_count": null,
      "outputs": []
    },
    {
      "cell_type": "code",
      "source": [
        "\n",
        "\n",
        "#%% 08. metodologias para selecao de features\n",
        "X = white.iloc[:,[1,2,3,4,5,6,7,8,9,10,11]] # selecionar por indice\n",
        "y = white['qualidade'] # selecionar por nome\n",
        "\n",
        "# (A) Variance Threshold\n",
        "# -----------------------------------\n",
        "X.var()\n",
        "# seleciona features que cumpre o criterio\n",
        "from sklearn.feature_selection import VarianceThreshold\n",
        "SEL = VarianceThreshold(threshold=(1))\n",
        "\n",
        "SEL.fit_transform(X)\n",
        "\n",
        "\n",
        "# (B) Recursive Feature Elimination (RFE)\n",
        "# -----------------------------------\n",
        "from sklearn.linear_model import LinearRegression\n",
        "from sklearn.feature_selection import RFE\n",
        "\n",
        "LR = LinearRegression()\n",
        "RFE = RFE(estimator=LR, n_features_to_select=4, step=1)\n",
        "\n",
        "RFE.fit(X, y)\n",
        "RFE.ranking_\n",
        "\n",
        "# (C) Select From Model\n",
        "# -----------------------------------\n",
        "from sklearn.tree import DecisionTreeRegressor\n",
        "from sklearn.feature_selection import SelectFromModel\n",
        "\n",
        "DTR = DecisionTreeRegressor().fit(X, y)\n",
        "MODEL = SelectFromModel(DTR, prefit=True, threshold='median')\n",
        "X_transformed = MODEL.transform(X) # output: FFMC, DC, temp, RH \n",
        "\n"
      ],
      "metadata": {
        "id": "7I8hH_yBDxNj"
      },
      "execution_count": null,
      "outputs": []
    },
    {
      "cell_type": "code",
      "source": [
        "\n",
        "#%% 09. criar dataset de treino e teste\n",
        "# X = X.iloc[:,[1,4,7]] # selecionar features para treinar o modelo\n",
        "\n",
        "from sklearn.model_selection import train_test_split\n",
        "\n",
        "X_train, X_test, y_train, y_test = train_test_split(X, y, test_size=0.2, random_state=0)\n",
        "\n"
      ],
      "metadata": {
        "id": "qj4ciyoQDyek"
      },
      "execution_count": null,
      "outputs": []
    },
    {
      "cell_type": "code",
      "source": [
        "\n",
        "#%% 10. TREINAR MODELOS DE REGRESSAO ###  .fit, .score, .predict. (mesma API da classificacao)\n",
        "#---------------------------------------\n",
        "# (1) Linear Regression\n",
        "from sklearn.linear_model import LinearRegression # regressao linear, ajuste da reta Y = mX + b\n",
        "LR = LinearRegression().fit(X_train, y_train)\n",
        "round(LR.score(X_test, y_test), 4)\n",
        "LR.intercept_\n",
        "LR.coef_ #quanto maior os coeficientes, mais impacto no modelo\n",
        "\n",
        "#---------------------------------------\n",
        "# (2) Decision Tree\n",
        "from sklearn.tree import DecisionTreeRegressor # tendencia para o overfit\n",
        "DTR = DecisionTreeRegressor(random_state=0).fit(X_train, y_train) # random_state tentativa/erro\n",
        "round(DTR.score(X_test, y_test), 4)\n",
        "\n",
        "for col, val in sorted(zip(X_train.columns, DTR.feature_importances_),\n",
        "                       key=lambda x: x[1], reverse=True)[:11]:\n",
        "    print(f\"{col:10}{val:10.3f}\")\n",
        "\n",
        "#---------------------------------------\n",
        "# (3) Random Forest\n",
        "from sklearn.ensemble import RandomForestRegressor # generaliza melhor que as DTR\n",
        "RFR = RandomForestRegressor(random_state=4).fit(X_train, y_train) # random_state tentativa/erro\n",
        "round(RFR.score(X_test, y_test), 4)\n",
        "\n",
        "for col, val in sorted(zip(X_train.columns, RFR.feature_importances_),\n",
        "                       key=lambda x: x[1], reverse=True)[:11]:\n",
        "    print(f\"{col:10}{val:10.3f}\")\n",
        "\n"
      ],
      "metadata": {
        "id": "R1BHrRFwDukk"
      },
      "execution_count": null,
      "outputs": []
    },
    {
      "cell_type": "code",
      "source": [
        "\n",
        "#%% 11. METRICAS PARA AVALIACAO DE MODELOS\n",
        "from sklearn import metrics\n",
        "\n",
        "# metricas usadas\n",
        "metrics = {\n",
        "    'R2'   : metrics.r2_score,\n",
        "    'MAE'  : metrics.mean_absolute_error,\n",
        "    'RMSE' : metrics.mean_squared_error}\n",
        "\n",
        "models = {\n",
        "    'LR' : LR,\n",
        "    'DTR': DTR,\n",
        "    'RFR': RFR}\n",
        "\n",
        "for i in metrics:\n",
        "    print(f'\\n{i}\\n-----')\n",
        "    for j in models:\n",
        "        met = metrics[i]\n",
        "        mod = models[j]\n",
        "        \n",
        "        y_test_pred = mod.predict(X_test)\n",
        "        test_score  = met(y_test, y_test_pred)\n",
        "        print(f'{j} {i}: {test_score:.4f}')\n",
        "\n"
      ],
      "metadata": {
        "id": "kgqWfhopDtEX"
      },
      "execution_count": null,
      "outputs": []
    },
    {
      "cell_type": "code",
      "source": [
        "\n",
        "#%% 12. PRODUZIR NOVAS ESTIMATIVAS DE CADA MODELO ####\n",
        "# -----------------------------------------------\n",
        "Xsel = df.iloc[:,[1,2,3,4,5,6,7,8,9,10,11]] # selecionar por indice\n",
        "Xsel.dropna(inplace=True) # limpar NaN caso existam\n",
        "\n",
        "Xpred = Xsel.copy()\n",
        "\n",
        "Xpred['LR']  = LR.predict(Xsel)\n",
        "Xpred['DTR'] = DTR.predict(Xsel)\n",
        "Xpred['RFR'] = RFR.predict(Xsel)\n",
        "\n",
        "Xpred[['qualidade', 'X', 'Y']] = df[['qualidade', 'X', 'Y']]\n",
        "Xpred.to_csv('mlearnexport.csv')\n",
        "\n"
      ],
      "metadata": {
        "id": "1tlnixKODrNP"
      },
      "execution_count": null,
      "outputs": []
    }
  ]
}