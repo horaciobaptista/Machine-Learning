{
 "cells": [
  {
   "cell_type": "code",
   "execution_count": null,
   "id": "54bd0977",
   "metadata": {},
   "outputs": [],
   "source": [
    "#%% 01. importar package para workspace\n",
    "import numpy as np"
   ]
  },
  {
   "cell_type": "code",
   "execution_count": null,
   "id": "2740b006",
   "metadata": {},
   "outputs": [],
   "source": [
    "#%% 02. criar array a partir de lista\n",
    "listnum = [1, 2, 3, 4, 5]\n",
    "listnum\n",
    "\n",
    "listnum = np.array(listnum)\n",
    "\n",
    "listtres = [[1,2,3], [5,4,1], [3,6,7]]\n",
    "\n",
    "listtres = np.array(listtres)"
   ]
  },
  {
   "cell_type": "code",
   "execution_count": null,
   "id": "f37b6917",
   "metadata": {},
   "outputs": [],
   "source": [
    "#%% 03. criar arrays\n",
    "np.arange(10)\n",
    "np.arange(0,10)\n",
    "np.arange(0,11,2)\n",
    "\n",
    "# criar array de 0 e 1\n",
    "np.zeros(7)\n",
    "np.ones(5)\n",
    "\n",
    "# criar array bidimensional\n",
    "np.zeros((3,5))\n",
    "\n",
    "# usando a função linspace\n",
    "a = np.linspace(1, 3, 15)\n",
    "\n",
    "np.eye(6)"
   ]
  },
  {
   "cell_type": "code",
   "execution_count": null,
   "id": "5d7b721c",
   "metadata": {},
   "outputs": [],
   "source": [
    "#%% 04. criar arrays de números aleatórios e inteiros\n",
    "# criar arrays de números aleatórios uniformemente distribuídos entre 0 e 1\n",
    "np.random.rand(4)\n",
    "np.random.rand(5, 4)\n",
    "\n",
    "# criar arrays de números aleatórios que obedecem a uma distribuição normal\n",
    "np.random.randn(7)\n",
    "np.random.randn(3,5)\n",
    "\n",
    "# converter array unidimensional para bidimensional\n",
    "arr = np.random.rand(25)\n",
    "arr = arr.reshape(5,5)\n",
    "\n",
    "# criar array de números inteiros\n",
    "np.random.randint(20)\n",
    "np.random.randint(0, 20, 10) "
   ]
  },
  {
   "cell_type": "code",
   "execution_count": null,
   "id": "089c9f2c",
   "metadata": {},
   "outputs": [],
   "source": [
    "#%% 05. converter entre dimensões\n",
    "arr = np.random.rand(25)\n",
    "arr = arr.reshape(5,5)\n",
    "\n",
    "a = np.arange(6).reshape((3, 2))\n",
    "a = np.reshape(a, (2, 3))"
   ]
  },
  {
   "cell_type": "code",
   "execution_count": null,
   "id": "c399f4b7",
   "metadata": {},
   "outputs": [],
   "source": [
    "#%% 06. mínimos e máximos de elementos e índices\n",
    "arr2 = np.random.randint(0, 20, 10) \n",
    "arr2.max()\n",
    "arr2.min()\n",
    "arr2.argmax()\n",
    "arr2.argmin()\n",
    "\n",
    "# forma do array\n",
    "arr.shape\n",
    "arr2.shape"
   ]
  },
  {
   "cell_type": "code",
   "execution_count": null,
   "id": "69f904ac",
   "metadata": {},
   "outputs": [],
   "source": [
    "#%% 07. indexação e selecção de elementos ou grupos de elementos\n",
    "arr = np.random.rand(10)\n",
    "\n",
    "arr[8]    # elemento posicionado no índice 8\n",
    "arr[2:6]  # retorna tudo entre os índices 2 e 6 (exclusivo)\n",
    "arr[:6]   # retorna tudo entre os índices 0 e 6 (exclusivo)\n",
    "arr[5:]  # retorna tudo entre os índices 5 e o índice final\n",
    "\n",
    "# a duas dimensões...\n",
    "arr2d = np.array([[10,20,30], [40,50,60], [70,80,90]])\n",
    "\n",
    "arr2d[1][2] # o valor 60 aparece na linha com índice 1 e coluna com índice 2\n",
    "arr2d[0,1]  # outra forma\n",
    "\n",
    "# subset ou slice do array\n",
    "arr2d[:1, :2]\n",
    "arr2d[:2, 1:]\n",
    "arr2d[:2, :2]\n",
    "\n",
    "arr2d[0]  # toda a linha com índice 0\n",
    "arr2d[:2] # todas as linhas com índices inferiores a 2"
   ]
  },
  {
   "cell_type": "code",
   "execution_count": null,
   "id": "f732407a",
   "metadata": {},
   "outputs": [],
   "source": [
    "#%% 08. selecção com operadores lógicos e condicionais\n",
    "arr = np.arange(5,15)\n",
    "arr > 10 # retorna TRUE pnde os elementos são superiores a 10\n",
    "\n",
    "boolarr = arr > 10\n",
    "arr[boolarr]\n",
    "\n",
    "# mesmo que o anterior mas com abordagem mais simples\n",
    "arr[arr > 10]\n",
    "\n",
    "# combinação de condições\n",
    "arr[(arr > 6) & (arr < 10)]\n",
    "\n",
    "# broadcasting\n",
    "arr[0:3] = 50\n",
    "arr"
   ]
  },
  {
   "cell_type": "code",
   "execution_count": null,
   "id": "991519fc",
   "metadata": {},
   "outputs": [],
   "source": [
    "#%% 09. operações aritméticas\n",
    "arr = np.arange(1,11)\n",
    "\n",
    "arr * arr  # multiplica \n",
    "arr - arr  # subtrai\n",
    "arr + arr  # adiciona\n",
    "arr / arr  # divide\n",
    "\n",
    "arr + 50 # adiciona 50 a cada elemento do array\n",
    "\n",
    "# aplicação de funções\n",
    "np.sqrt(arr)  # raiz quadrada de cada elemento\n",
    "np.exp(arr)   # exponencial\n",
    "np.sin(arr)   # seno\n",
    "np.cos(arr)   # cosseno\n",
    "np.log(arr)   # logaritmo\n",
    "np.sum(arr)   # soma\n",
    "np.std(arr)   # desvio padrão\n",
    "np.mean(arr)  # média\n",
    "\n",
    "# soma dos elementos do array (total, por linha ou coluna)\n",
    "mat = np.arange(1,26).reshape(5,5)\n",
    "\n",
    "mat.sum()\n",
    "mat.sum(axis=0)\n",
    "mat.sum(axis=1)"
   ]
  },
  {
   "cell_type": "code",
   "execution_count": null,
   "id": "0250a3be",
   "metadata": {},
   "outputs": [],
   "source": [
    "#%% 10. outras operações\n",
    "t = np.array([1.0,5.55, 123, 0.567, 25.532]) \n",
    "\n",
    "np.around(t) # evenly round to the given number of decimals\n",
    "np.around(t, decimals = 1) \n",
    "\n",
    "np.ceil(t)  # return the ceiling of the input, element-wise.\n",
    "np.fix(t)   # round to nearest integer towards zero.\n",
    "np.floor(t) # return the floor of the input, element-wise.\n",
    "np.rint(t)  # round elements of the array to the nearest integer.\n",
    "np.trunc(t) # return the truncated value of the input, element-wise."
   ]
  },
  {
   "cell_type": "code",
   "execution_count": null,
   "id": "a979a564",
   "metadata": {},
   "outputs": [],
   "source": [
    "#%% 11. operadores vários numpy\n",
    "a = np.linspace(1,10,15).reshape(3, 5)\n",
    "\n",
    "a.shape      # forma do array\n",
    "a.ndim       # dimensao do array\n",
    "a.dtype.name # tipo de variável guardada no array\n",
    "a.size       # numero de elementos do array\n",
    "type(a)      # tipo de objecto (neste caso identifica como array)\n",
    "\n",
    "a.T             # transposição\n",
    "np.transpose(a) # outra forma de chamar o comando\n",
    "\n",
    "a.cumsum()      # soma cumulativa\n",
    "np.cumsum(a)    # outra forma de chamar o comando\n",
    "\n",
    "a = a.flatten()     # transforma o array para unidimensional"
   ]
  }
 ],
 "metadata": {
  "kernelspec": {
   "display_name": "Python 3 (ipykernel)",
   "language": "python",
   "name": "python3"
  },
  "language_info": {
   "codemirror_mode": {
    "name": "ipython",
    "version": 3
   },
   "file_extension": ".py",
   "mimetype": "text/x-python",
   "name": "python",
   "nbconvert_exporter": "python",
   "pygments_lexer": "ipython3",
   "version": "3.10.9"
  }
 },
 "nbformat": 4,
 "nbformat_minor": 5
}
