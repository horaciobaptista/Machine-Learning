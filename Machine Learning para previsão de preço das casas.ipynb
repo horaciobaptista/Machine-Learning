{
 "cells": [
  {
   "cell_type": "markdown",
   "metadata": {},
   "source": [
    "# Analisando os preços das casas de Melbourne\n",
    "- Vamos usar o seguinte dataset:\n",
    "    - https://www.kaggle.com/datasets/dansbecker/melbourne-housing-snapshot?select=melb_data.csv\n",
    "    - Já retiramos algumas colunas para simplificar o nosso projeto (em projetos futuros, podemos trabalhar a base completa)"
   ]
  },
  {
   "cell_type": "markdown",
   "metadata": {},
   "source": [
    "## Importando e entendendo a base"
   ]
  },
  {
   "cell_type": "code",
   "execution_count": 1,
   "metadata": {},
   "outputs": [],
   "source": [
    "import pandas as pd\n",
    "import matplotlib.pyplot as plt\n",
    "import seaborn as sns\n",
    "from pandas_profiling import ProfileReport\n",
    "pd.options.display.float_format = '{:,.2f}'.format\n",
    "%matplotlib inline"
   ]
  },
  {
   "cell_type": "code",
   "execution_count": 2,
   "metadata": {},
   "outputs": [],
   "source": [
    "base = pd.read_csv(\"melb_data.csv\")"
   ]
  },
  {
   "cell_type": "code",
   "execution_count": 3,
   "metadata": {},
   "outputs": [
    {
     "name": "stdout",
     "output_type": "stream",
     "text": [
      "              Suburb           Address  Rooms Type        Price Method  \\\n",
      "0         Abbotsford      85 Turner St      2    h 1,480,000.00      S   \n",
      "1         Abbotsford   25 Bloomburg St      2    h 1,035,000.00      S   \n",
      "2         Abbotsford      5 Charles St      3    h 1,465,000.00     SP   \n",
      "3         Abbotsford  40 Federation La      3    h   850,000.00     PI   \n",
      "4         Abbotsford       55a Park St      4    h 1,600,000.00     VB   \n",
      "...              ...               ...    ...  ...          ...    ...   \n",
      "13575  Wheelers Hill      12 Strada Cr      4    h 1,245,000.00      S   \n",
      "13576   Williamstown     77 Merrett Dr      3    h 1,031,000.00     SP   \n",
      "13577   Williamstown       83 Power St      3    h 1,170,000.00      S   \n",
      "13578   Williamstown      96 Verdon St      4    h 2,500,000.00     PI   \n",
      "13579     Yarraville        6 Agnes St      4    h 1,285,000.00     SP   \n",
      "\n",
      "        SellerG        Date  Distance  Postcode  ...  Bathroom  Car  Landsize  \\\n",
      "0        Biggin   3/12/2016      2.50  3,067.00  ...      1.00 1.00    202.00   \n",
      "1        Biggin   4/02/2016      2.50  3,067.00  ...      1.00 0.00    156.00   \n",
      "2        Biggin   4/03/2017      2.50  3,067.00  ...      2.00 0.00    134.00   \n",
      "3        Biggin   4/03/2017      2.50  3,067.00  ...      2.00 1.00     94.00   \n",
      "4        Nelson   4/06/2016      2.50  3,067.00  ...      1.00 2.00    120.00   \n",
      "...         ...         ...       ...       ...  ...       ...  ...       ...   \n",
      "13575     Barry  26/08/2017     16.70  3,150.00  ...      2.00 2.00    652.00   \n",
      "13576  Williams  26/08/2017      6.80  3,016.00  ...      2.00 2.00    333.00   \n",
      "13577     Raine  26/08/2017      6.80  3,016.00  ...      2.00 4.00    436.00   \n",
      "13578   Sweeney  26/08/2017      6.80  3,016.00  ...      1.00 5.00    866.00   \n",
      "13579   Village  26/08/2017      6.30  3,013.00  ...      1.00 1.00    362.00   \n",
      "\n",
      "       BuildingArea  YearBuilt  CouncilArea Lattitude  Longtitude  \\\n",
      "0               NaN        NaN        Yarra    -37.80      145.00   \n",
      "1             79.00   1,900.00        Yarra    -37.81      144.99   \n",
      "2            150.00   1,900.00        Yarra    -37.81      144.99   \n",
      "3               NaN        NaN        Yarra    -37.80      145.00   \n",
      "4            142.00   2,014.00        Yarra    -37.81      144.99   \n",
      "...             ...        ...          ...       ...         ...   \n",
      "13575           NaN   1,981.00          NaN    -37.91      145.17   \n",
      "13576        133.00   1,995.00          NaN    -37.86      144.88   \n",
      "13577           NaN   1,997.00          NaN    -37.85      144.89   \n",
      "13578        157.00   1,920.00          NaN    -37.86      144.89   \n",
      "13579        112.00   1,920.00          NaN    -37.81      144.88   \n",
      "\n",
      "                       Regionname Propertycount  \n",
      "0           Northern Metropolitan      4,019.00  \n",
      "1           Northern Metropolitan      4,019.00  \n",
      "2           Northern Metropolitan      4,019.00  \n",
      "3           Northern Metropolitan      4,019.00  \n",
      "4           Northern Metropolitan      4,019.00  \n",
      "...                           ...           ...  \n",
      "13575  South-Eastern Metropolitan      7,392.00  \n",
      "13576        Western Metropolitan      6,380.00  \n",
      "13577        Western Metropolitan      6,380.00  \n",
      "13578        Western Metropolitan      6,380.00  \n",
      "13579        Western Metropolitan      6,543.00  \n",
      "\n",
      "[13580 rows x 21 columns]\n"
     ]
    }
   ],
   "source": [
    "print(base)"
   ]
  },
  {
   "cell_type": "markdown",
   "metadata": {},
   "source": [
    "## Tratando a base para usar no modelo"
   ]
  },
  {
   "cell_type": "code",
   "execution_count": 4,
   "metadata": {},
   "outputs": [],
   "source": [
    "# Vou retirar as colunas que tiverem uma alta cardinalidade\n",
    "base = base.drop([\"Suburb\",\"Address\",\"SellerG\",\"Date\"],axis=1)"
   ]
  },
  {
   "cell_type": "code",
   "execution_count": 5,
   "metadata": {},
   "outputs": [
    {
     "name": "stdout",
     "output_type": "stream",
     "text": [
      "       Rooms Type        Price Method  Distance  Postcode  Bedroom2  Bathroom  \\\n",
      "0          2    h 1,480,000.00      S      2.50  3,067.00      2.00      1.00   \n",
      "1          2    h 1,035,000.00      S      2.50  3,067.00      2.00      1.00   \n",
      "2          3    h 1,465,000.00     SP      2.50  3,067.00      3.00      2.00   \n",
      "3          3    h   850,000.00     PI      2.50  3,067.00      3.00      2.00   \n",
      "4          4    h 1,600,000.00     VB      2.50  3,067.00      3.00      1.00   \n",
      "...      ...  ...          ...    ...       ...       ...       ...       ...   \n",
      "13575      4    h 1,245,000.00      S     16.70  3,150.00      4.00      2.00   \n",
      "13576      3    h 1,031,000.00     SP      6.80  3,016.00      3.00      2.00   \n",
      "13577      3    h 1,170,000.00      S      6.80  3,016.00      3.00      2.00   \n",
      "13578      4    h 2,500,000.00     PI      6.80  3,016.00      4.00      1.00   \n",
      "13579      4    h 1,285,000.00     SP      6.30  3,013.00      4.00      1.00   \n",
      "\n",
      "       Car  Landsize  BuildingArea  YearBuilt CouncilArea  Lattitude  \\\n",
      "0     1.00    202.00           NaN        NaN       Yarra     -37.80   \n",
      "1     0.00    156.00         79.00   1,900.00       Yarra     -37.81   \n",
      "2     0.00    134.00        150.00   1,900.00       Yarra     -37.81   \n",
      "3     1.00     94.00           NaN        NaN       Yarra     -37.80   \n",
      "4     2.00    120.00        142.00   2,014.00       Yarra     -37.81   \n",
      "...    ...       ...           ...        ...         ...        ...   \n",
      "13575 2.00    652.00           NaN   1,981.00         NaN     -37.91   \n",
      "13576 2.00    333.00        133.00   1,995.00         NaN     -37.86   \n",
      "13577 4.00    436.00           NaN   1,997.00         NaN     -37.85   \n",
      "13578 5.00    866.00        157.00   1,920.00         NaN     -37.86   \n",
      "13579 1.00    362.00        112.00   1,920.00         NaN     -37.81   \n",
      "\n",
      "       Longtitude                  Regionname  Propertycount  \n",
      "0          145.00       Northern Metropolitan       4,019.00  \n",
      "1          144.99       Northern Metropolitan       4,019.00  \n",
      "2          144.99       Northern Metropolitan       4,019.00  \n",
      "3          145.00       Northern Metropolitan       4,019.00  \n",
      "4          144.99       Northern Metropolitan       4,019.00  \n",
      "...           ...                         ...            ...  \n",
      "13575      145.17  South-Eastern Metropolitan       7,392.00  \n",
      "13576      144.88        Western Metropolitan       6,380.00  \n",
      "13577      144.89        Western Metropolitan       6,380.00  \n",
      "13578      144.89        Western Metropolitan       6,380.00  \n",
      "13579      144.88        Western Metropolitan       6,543.00  \n",
      "\n",
      "[13580 rows x 17 columns]\n"
     ]
    }
   ],
   "source": [
    "print(base)"
   ]
  },
  {
   "cell_type": "code",
   "execution_count": 21,
   "metadata": {},
   "outputs": [],
   "source": [
    "# Também vamos retirar colunas com mais de 20% de valores nulos\n",
    "base = base.drop([\"BuildingArea\",\"YearBuilt\"],axis=1)"
   ]
  },
  {
   "cell_type": "code",
   "execution_count": 22,
   "metadata": {},
   "outputs": [
    {
     "data": {
      "text/html": [
       "<div>\n",
       "<style scoped>\n",
       "    .dataframe tbody tr th:only-of-type {\n",
       "        vertical-align: middle;\n",
       "    }\n",
       "\n",
       "    .dataframe tbody tr th {\n",
       "        vertical-align: top;\n",
       "    }\n",
       "\n",
       "    .dataframe thead th {\n",
       "        text-align: right;\n",
       "    }\n",
       "</style>\n",
       "<table border=\"1\" class=\"dataframe\">\n",
       "  <thead>\n",
       "    <tr style=\"text-align: right;\">\n",
       "      <th></th>\n",
       "      <th>Rooms</th>\n",
       "      <th>Type</th>\n",
       "      <th>Price</th>\n",
       "      <th>Method</th>\n",
       "      <th>Distance</th>\n",
       "      <th>Postcode</th>\n",
       "      <th>Bedroom2</th>\n",
       "      <th>Bathroom</th>\n",
       "      <th>Car</th>\n",
       "      <th>Landsize</th>\n",
       "      <th>CouncilArea</th>\n",
       "      <th>Lattitude</th>\n",
       "      <th>Longtitude</th>\n",
       "      <th>Regionname</th>\n",
       "      <th>Propertycount</th>\n",
       "    </tr>\n",
       "  </thead>\n",
       "  <tbody>\n",
       "    <tr>\n",
       "      <th>0</th>\n",
       "      <td>2</td>\n",
       "      <td>h</td>\n",
       "      <td>1,480,000.00</td>\n",
       "      <td>S</td>\n",
       "      <td>2.50</td>\n",
       "      <td>3,067.00</td>\n",
       "      <td>2.00</td>\n",
       "      <td>1.00</td>\n",
       "      <td>1.00</td>\n",
       "      <td>202.00</td>\n",
       "      <td>Yarra</td>\n",
       "      <td>-37.80</td>\n",
       "      <td>145.00</td>\n",
       "      <td>Northern Metropolitan</td>\n",
       "      <td>4,019.00</td>\n",
       "    </tr>\n",
       "    <tr>\n",
       "      <th>1</th>\n",
       "      <td>2</td>\n",
       "      <td>h</td>\n",
       "      <td>1,035,000.00</td>\n",
       "      <td>S</td>\n",
       "      <td>2.50</td>\n",
       "      <td>3,067.00</td>\n",
       "      <td>2.00</td>\n",
       "      <td>1.00</td>\n",
       "      <td>0.00</td>\n",
       "      <td>156.00</td>\n",
       "      <td>Yarra</td>\n",
       "      <td>-37.81</td>\n",
       "      <td>144.99</td>\n",
       "      <td>Northern Metropolitan</td>\n",
       "      <td>4,019.00</td>\n",
       "    </tr>\n",
       "    <tr>\n",
       "      <th>2</th>\n",
       "      <td>3</td>\n",
       "      <td>h</td>\n",
       "      <td>1,465,000.00</td>\n",
       "      <td>SP</td>\n",
       "      <td>2.50</td>\n",
       "      <td>3,067.00</td>\n",
       "      <td>3.00</td>\n",
       "      <td>2.00</td>\n",
       "      <td>0.00</td>\n",
       "      <td>134.00</td>\n",
       "      <td>Yarra</td>\n",
       "      <td>-37.81</td>\n",
       "      <td>144.99</td>\n",
       "      <td>Northern Metropolitan</td>\n",
       "      <td>4,019.00</td>\n",
       "    </tr>\n",
       "    <tr>\n",
       "      <th>3</th>\n",
       "      <td>3</td>\n",
       "      <td>h</td>\n",
       "      <td>850,000.00</td>\n",
       "      <td>PI</td>\n",
       "      <td>2.50</td>\n",
       "      <td>3,067.00</td>\n",
       "      <td>3.00</td>\n",
       "      <td>2.00</td>\n",
       "      <td>1.00</td>\n",
       "      <td>94.00</td>\n",
       "      <td>Yarra</td>\n",
       "      <td>-37.80</td>\n",
       "      <td>145.00</td>\n",
       "      <td>Northern Metropolitan</td>\n",
       "      <td>4,019.00</td>\n",
       "    </tr>\n",
       "    <tr>\n",
       "      <th>4</th>\n",
       "      <td>4</td>\n",
       "      <td>h</td>\n",
       "      <td>1,600,000.00</td>\n",
       "      <td>VB</td>\n",
       "      <td>2.50</td>\n",
       "      <td>3,067.00</td>\n",
       "      <td>3.00</td>\n",
       "      <td>1.00</td>\n",
       "      <td>2.00</td>\n",
       "      <td>120.00</td>\n",
       "      <td>Yarra</td>\n",
       "      <td>-37.81</td>\n",
       "      <td>144.99</td>\n",
       "      <td>Northern Metropolitan</td>\n",
       "      <td>4,019.00</td>\n",
       "    </tr>\n",
       "  </tbody>\n",
       "</table>\n",
       "</div>"
      ],
      "text/plain": [
       "   Rooms Type        Price Method  Distance  Postcode  Bedroom2  Bathroom  \\\n",
       "0      2    h 1,480,000.00      S      2.50  3,067.00      2.00      1.00   \n",
       "1      2    h 1,035,000.00      S      2.50  3,067.00      2.00      1.00   \n",
       "2      3    h 1,465,000.00     SP      2.50  3,067.00      3.00      2.00   \n",
       "3      3    h   850,000.00     PI      2.50  3,067.00      3.00      2.00   \n",
       "4      4    h 1,600,000.00     VB      2.50  3,067.00      3.00      1.00   \n",
       "\n",
       "   Car  Landsize CouncilArea  Lattitude  Longtitude             Regionname  \\\n",
       "0 1.00    202.00       Yarra     -37.80      145.00  Northern Metropolitan   \n",
       "1 0.00    156.00       Yarra     -37.81      144.99  Northern Metropolitan   \n",
       "2 0.00    134.00       Yarra     -37.81      144.99  Northern Metropolitan   \n",
       "3 1.00     94.00       Yarra     -37.80      145.00  Northern Metropolitan   \n",
       "4 2.00    120.00       Yarra     -37.81      144.99  Northern Metropolitan   \n",
       "\n",
       "   Propertycount  \n",
       "0       4,019.00  \n",
       "1       4,019.00  \n",
       "2       4,019.00  \n",
       "3       4,019.00  \n",
       "4       4,019.00  "
      ]
     },
     "execution_count": 22,
     "metadata": {},
     "output_type": "execute_result"
    }
   ],
   "source": [
    "# Visualizando a base restante\n",
    "base.head()"
   ]
  },
  {
   "cell_type": "code",
   "execution_count": 23,
   "metadata": {},
   "outputs": [
    {
     "data": {
      "image/png": "[encoded data removed]",
      "text/plain": [
       "<Figure size 936x576 with 2 Axes>"
      ]
     },
     "metadata": {
      "needs_background": "light"
     },
     "output_type": "display_data"
    }
   ],
   "source": [
    "# Mostrando a correlação entre as variáveis\n",
    "plt.figure(figsize=(13,8))\n",
    "sns.heatmap(base.corr(),annot=True,cmap=\"YlGnBu\")\n",
    "plt.show()"
   ]
  },
  {
   "cell_type": "markdown",
   "metadata": {},
   "source": [
    "**Não teremos a correlação entre as variáveis de texto, para isso precisaríamos transformar em variáveis numéricas caso a gente queira usar essas variáveis**"
   ]
  },
  {
   "cell_type": "code",
   "execution_count": 24,
   "metadata": {},
   "outputs": [],
   "source": [
    "# Vou escolher o que tiver correlação mais alta e Landsize pois retiramos o BuildingArea\n",
    "base1 = base[[\"Price\",\"Rooms\",\"Bathroom\",\"Bedroom2\",\"Car\",\"Landsize\"]]"
   ]
  },
  {
   "cell_type": "markdown",
   "metadata": {},
   "source": [
    "### Verificando a base tratada"
   ]
  },
  {
   "cell_type": "code",
   "execution_count": 25,
   "metadata": {},
   "outputs": [
    {
     "name": "stdout",
     "output_type": "stream",
     "text": [
      "<class 'pandas.core.frame.DataFrame'>\n",
      "RangeIndex: 13580 entries, 0 to 13579\n",
      "Data columns (total 6 columns):\n",
      " #   Column    Non-Null Count  Dtype  \n",
      "---  ------    --------------  -----  \n",
      " 0   Price     13580 non-null  float64\n",
      " 1   Rooms     13580 non-null  int64  \n",
      " 2   Bathroom  13580 non-null  float64\n",
      " 3   Bedroom2  13580 non-null  float64\n",
      " 4   Car       13518 non-null  float64\n",
      " 5   Landsize  13580 non-null  float64\n",
      "dtypes: float64(5), int64(1)\n",
      "memory usage: 636.7 KB\n"
     ]
    }
   ],
   "source": [
    "base1.info()"
   ]
  },
  {
   "cell_type": "markdown",
   "metadata": {},
   "source": [
    "**Ainda temos valores nulos na coluna \"Car\"**"
   ]
  },
  {
   "cell_type": "code",
   "execution_count": 26,
   "metadata": {},
   "outputs": [],
   "source": [
    "# Tratando valores nulos: retirando esses valores\n",
    "base1 = base1.dropna(axis=0)"
   ]
  },
  {
   "cell_type": "code",
   "execution_count": 27,
   "metadata": {},
   "outputs": [
    {
     "name": "stdout",
     "output_type": "stream",
     "text": [
      "<class 'pandas.core.frame.DataFrame'>\n",
      "Int64Index: 13518 entries, 0 to 13579\n",
      "Data columns (total 6 columns):\n",
      " #   Column    Non-Null Count  Dtype  \n",
      "---  ------    --------------  -----  \n",
      " 0   Price     13518 non-null  float64\n",
      " 1   Rooms     13518 non-null  int64  \n",
      " 2   Bathroom  13518 non-null  float64\n",
      " 3   Bedroom2  13518 non-null  float64\n",
      " 4   Car       13518 non-null  float64\n",
      " 5   Landsize  13518 non-null  float64\n",
      "dtypes: float64(5), int64(1)\n",
      "memory usage: 739.3 KB\n"
     ]
    }
   ],
   "source": [
    "base1.info()"
   ]
  },
  {
   "cell_type": "code",
   "execution_count": 28,
   "metadata": {},
   "outputs": [
    {
     "data": {
      "text/html": [
       "<div>\n",
       "<style scoped>\n",
       "    .dataframe tbody tr th:only-of-type {\n",
       "        vertical-align: middle;\n",
       "    }\n",
       "\n",
       "    .dataframe tbody tr th {\n",
       "        vertical-align: top;\n",
       "    }\n",
       "\n",
       "    .dataframe thead th {\n",
       "        text-align: right;\n",
       "    }\n",
       "</style>\n",
       "<table border=\"1\" class=\"dataframe\">\n",
       "  <thead>\n",
       "    <tr style=\"text-align: right;\">\n",
       "      <th></th>\n",
       "      <th>Price</th>\n",
       "      <th>Rooms</th>\n",
       "      <th>Bathroom</th>\n",
       "      <th>Bedroom2</th>\n",
       "      <th>Car</th>\n",
       "      <th>Landsize</th>\n",
       "    </tr>\n",
       "  </thead>\n",
       "  <tbody>\n",
       "    <tr>\n",
       "      <th>0</th>\n",
       "      <td>1,480,000.00</td>\n",
       "      <td>2</td>\n",
       "      <td>1.00</td>\n",
       "      <td>2.00</td>\n",
       "      <td>1.00</td>\n",
       "      <td>202.00</td>\n",
       "    </tr>\n",
       "    <tr>\n",
       "      <th>1</th>\n",
       "      <td>1,035,000.00</td>\n",
       "      <td>2</td>\n",
       "      <td>1.00</td>\n",
       "      <td>2.00</td>\n",
       "      <td>0.00</td>\n",
       "      <td>156.00</td>\n",
       "    </tr>\n",
       "    <tr>\n",
       "      <th>2</th>\n",
       "      <td>1,465,000.00</td>\n",
       "      <td>3</td>\n",
       "      <td>2.00</td>\n",
       "      <td>3.00</td>\n",
       "      <td>0.00</td>\n",
       "      <td>134.00</td>\n",
       "    </tr>\n",
       "    <tr>\n",
       "      <th>3</th>\n",
       "      <td>850,000.00</td>\n",
       "      <td>3</td>\n",
       "      <td>2.00</td>\n",
       "      <td>3.00</td>\n",
       "      <td>1.00</td>\n",
       "      <td>94.00</td>\n",
       "    </tr>\n",
       "    <tr>\n",
       "      <th>4</th>\n",
       "      <td>1,600,000.00</td>\n",
       "      <td>4</td>\n",
       "      <td>1.00</td>\n",
       "      <td>3.00</td>\n",
       "      <td>2.00</td>\n",
       "      <td>120.00</td>\n",
       "    </tr>\n",
       "  </tbody>\n",
       "</table>\n",
       "</div>"
      ],
      "text/plain": [
       "         Price  Rooms  Bathroom  Bedroom2  Car  Landsize\n",
       "0 1,480,000.00      2      1.00      2.00 1.00    202.00\n",
       "1 1,035,000.00      2      1.00      2.00 0.00    156.00\n",
       "2 1,465,000.00      3      2.00      3.00 0.00    134.00\n",
       "3   850,000.00      3      2.00      3.00 1.00     94.00\n",
       "4 1,600,000.00      4      1.00      3.00 2.00    120.00"
      ]
     },
     "execution_count": 28,
     "metadata": {},
     "output_type": "execute_result"
    }
   ],
   "source": [
    "base1.head()"
   ]
  },
  {
   "cell_type": "markdown",
   "metadata": {},
   "source": [
    "## Começando a criar nosso modelo de ML"
   ]
  },
  {
   "cell_type": "markdown",
   "metadata": {},
   "source": [
    "**O primeiro passo vai ser separar entre a nossa variável que queremos prever (Y) e quais vão ser as colunas que vamos usar para essa previsão (X)**"
   ]
  },
  {
   "cell_type": "code",
   "execution_count": 29,
   "metadata": {},
   "outputs": [],
   "source": [
    "Y = base1.Price\n",
    "X = base1.drop('Price', axis=1)"
   ]
  },
  {
   "cell_type": "markdown",
   "metadata": {},
   "source": [
    "**Em seguida, vamos separar a nossa base em treino e teste**\n",
    "- A base de treino vai ser usada para treinar o modelo para que ele faça as previsões\n",
    "- A base de teste vai ser usada para, ao usar o modelo já treinado, verificar o erro da previsão feita pelo modelo em relação aos valores reais"
   ]
  },
  {
   "cell_type": "code",
   "execution_count": 30,
   "metadata": {},
   "outputs": [],
   "source": [
    "from sklearn.model_selection import train_test_split\n",
    "x_treino,x_teste,y_treino,y_teste = train_test_split(X,Y)"
   ]
  },
  {
   "cell_type": "markdown",
   "metadata": {},
   "source": [
    "**O próximo passo é escolher o modelo que vamos usar**"
   ]
  },
  {
   "cell_type": "markdown",
   "metadata": {},
   "source": [
    "### <font color='blue'>Regressão Linear</font>"
   ]
  },
  {
   "cell_type": "code",
   "execution_count": 36,
   "metadata": {},
   "outputs": [],
   "source": [
    "# Importando o modelo\n",
    "from sklearn.linear_model import LinearRegression\n",
    "\n",
    "# Instanciando\n",
    "modelo_regressao = LinearRegression()\n",
    "\n",
    "# Realizando o fit do modelo\n",
    "modelo_regressao.fit(x_treino,y_treino)\n",
    "\n",
    "# Usando o modelo para prever os dados de teste\n",
    "y_regressao = modelo_regressao.predict(x_teste)"
   ]
  },
  {
   "cell_type": "code",
   "execution_count": 37,
   "metadata": {},
   "outputs": [
    {
     "data": {
      "image/png": "[encoded data removed]",
      "text/plain": [
       "<Figure size 720x720 with 1 Axes>"
      ]
     },
     "metadata": {
      "needs_background": "light"
     },
     "output_type": "display_data"
    }
   ],
   "source": [
    "# Podemos visualizar os pontos previstos X real\n",
    "plt.figure(figsize=(10,10))\n",
    "sns.scatterplot(x=y_teste.values/1000000,y=y_regressao/1000000)\n",
    "plt.ylim(0,10)\n",
    "plt.xlim(0,10)\n",
    "plt.show()"
   ]
  },
  {
   "cell_type": "markdown",
   "metadata": {},
   "source": [
    "**Para avaliar o modelo, precisamos calcular os erros**"
   ]
  },
  {
   "cell_type": "code",
   "execution_count": 38,
   "metadata": {},
   "outputs": [
    {
     "name": "stdout",
     "output_type": "stream",
     "text": [
      "278042756554.8605\n"
     ]
    }
   ],
   "source": [
    "# Avaliando o erro quadrático médio\n",
    "from sklearn.metrics import mean_squared_error\n",
    "erro_quadratico_regressao = mean_squared_error(y_teste,y_regressao)\n",
    "print(erro_quadratico_regressao)"
   ]
  },
  {
   "cell_type": "code",
   "execution_count": 39,
   "metadata": {},
   "outputs": [
    {
     "name": "stdout",
     "output_type": "stream",
     "text": [
      "0.3022888192001315\n"
     ]
    }
   ],
   "source": [
    "# Avaliando o R quadrado\n",
    "from sklearn.metrics import r2_score\n",
    "r2_regressao = r2_score(y_teste,y_regressao)\n",
    "print(r2_regressao)"
   ]
  },
  {
   "cell_type": "markdown",
   "metadata": {},
   "source": [
    "### <font color='blue'>Regressão Linear: selecionando outras colunas </font>"
   ]
  },
  {
   "cell_type": "code",
   "execution_count": 40,
   "metadata": {},
   "outputs": [],
   "source": [
    "# base1 = base1[[\"Price\",\"Rooms\",\"Bathroom\",\"Bedroom2\",\"Car\",\"Longtitude\",\"Lattitude\",\"Distance\",\"Landsize\",\"Postcode\",\"Propertycount\"]]\n",
    "base2 = base[[\"Price\",\"Rooms\",\"Bathroom\",\"Bedroom2\",\"Car\",\"Longtitude\",\"Lattitude\",\"Distance\",\"Landsize\",\"Postcode\",\"Propertycount\"]]"
   ]
  },
  {
   "cell_type": "code",
   "execution_count": 41,
   "metadata": {},
   "outputs": [
    {
     "name": "stdout",
     "output_type": "stream",
     "text": [
      "<class 'pandas.core.frame.DataFrame'>\n",
      "Int64Index: 13518 entries, 0 to 13579\n",
      "Data columns (total 11 columns):\n",
      " #   Column         Non-Null Count  Dtype  \n",
      "---  ------         --------------  -----  \n",
      " 0   Price          13518 non-null  float64\n",
      " 1   Rooms          13518 non-null  int64  \n",
      " 2   Bathroom       13518 non-null  float64\n",
      " 3   Bedroom2       13518 non-null  float64\n",
      " 4   Car            13518 non-null  float64\n",
      " 5   Longtitude     13518 non-null  float64\n",
      " 6   Lattitude      13518 non-null  float64\n",
      " 7   Distance       13518 non-null  float64\n",
      " 8   Landsize       13518 non-null  float64\n",
      " 9   Postcode       13518 non-null  float64\n",
      " 10  Propertycount  13518 non-null  float64\n",
      "dtypes: float64(10), int64(1)\n",
      "memory usage: 1.2 MB\n"
     ]
    }
   ],
   "source": [
    "# Verificando valores nulos e tratando\n",
    "base2 = base2.dropna(axis=0)\n",
    "\n",
    "base2.info()"
   ]
  },
  {
   "cell_type": "markdown",
   "metadata": {},
   "source": [
    "**Vamos fazer as mesmas etapas que fizemos anteriormente**"
   ]
  },
  {
   "cell_type": "code",
   "execution_count": 42,
   "metadata": {},
   "outputs": [
    {
     "name": "stdout",
     "output_type": "stream",
     "text": [
      "210173649928.37207\n",
      "0.4952057779937039\n"
     ]
    }
   ],
   "source": [
    "# Separando a base\n",
    "Y = base2.Price\n",
    "X = base2.drop('Price', axis=1)\n",
    "\n",
    "# Dividindo em treino e teste\n",
    "x_treino,x_teste,y_treino,y_teste = train_test_split(X,Y)\n",
    "\n",
    "## Fazendo o fit para os novos dados\n",
    "# Instanciando\n",
    "modelo_regressao2 = LinearRegression()\n",
    "\n",
    "# Realizando o fit do modelo\n",
    "modelo_regressao2.fit(x_treino,y_treino)\n",
    "\n",
    "# Usando o modelo para prever os dados de teste\n",
    "y_regressao2 = modelo_regressao2.predict(x_teste)\n",
    "\n",
    "## Avaliando os erros\n",
    "# Erro quadrático médio\n",
    "erro_quadratico_regressao2 = mean_squared_error(y_teste,y_regressao2)\n",
    "print(erro_quadratico_regressao2)\n",
    "\n",
    "# R quadrado\n",
    "r2_regressao2 = r2_score(y_teste,y_regressao2)\n",
    "print(r2_regressao2)"
   ]
  },
  {
   "cell_type": "code",
   "execution_count": 43,
   "metadata": {},
   "outputs": [
    {
     "data": {
      "image/png": "[encoded data removed]",
      "text/plain": [
       "<Figure size 720x720 with 1 Axes>"
      ]
     },
     "metadata": {
      "needs_background": "light"
     },
     "output_type": "display_data"
    }
   ],
   "source": [
    "# Podemos visualizar os pontos previstos X real\n",
    "plt.figure(figsize=(10,10))\n",
    "sns.scatterplot(x=y_teste.values/1000000,y=y_regressao2/1000000)\n",
    "plt.ylim(0,10)\n",
    "plt.xlim(0,10)\n",
    "plt.show()"
   ]
  },
  {
   "cell_type": "markdown",
   "metadata": {},
   "source": [
    "### <font color='blue'> Árvore de Decisão </font>\n",
    "- Já vamos usar o mesmo treino e teste que fizemos na base anterior"
   ]
  },
  {
   "cell_type": "code",
   "execution_count": 44,
   "metadata": {},
   "outputs": [],
   "source": [
    "# Importando o modelo\n",
    "from sklearn.tree import DecisionTreeRegressor\n",
    "\n",
    "# Instanciando\n",
    "modelo_arvore_decisao = DecisionTreeRegressor()\n",
    "\n",
    "# Realizando o fit do modelo\n",
    "modelo_arvore_decisao.fit(x_treino,y_treino)\n",
    "\n",
    "# Usando o modelo para prever os dados de teste\n",
    "y_arvore_decisao = modelo_arvore_decisao.predict(x_teste)"
   ]
  },
  {
   "cell_type": "code",
   "execution_count": 45,
   "metadata": {},
   "outputs": [
    {
     "name": "stdout",
     "output_type": "stream",
     "text": [
      "192918637177.58893\n",
      "0.5366487978023657\n"
     ]
    }
   ],
   "source": [
    "## Avaliando os erros\n",
    "# Erro quadrático médio\n",
    "erro_quadratico_arvore_decisao = mean_squared_error(y_teste,y_arvore_decisao)\n",
    "print(erro_quadratico_arvore_decisao)\n",
    "\n",
    "# R quadrado\n",
    "r2_arvore_decisao = r2_score(y_teste,y_arvore_decisao)\n",
    "print(r2_arvore_decisao)"
   ]
  },
  {
   "cell_type": "markdown",
   "metadata": {},
   "source": [
    "### Fazendo um resumo dos resultados"
   ]
  },
  {
   "cell_type": "code",
   "execution_count": 46,
   "metadata": {},
   "outputs": [
    {
     "name": "stdout",
     "output_type": "stream",
     "text": [
      "Regressão Linear\n",
      "Erro quadrático médio: 278042756554.86\n",
      "R quadrado: 0.3023\n",
      "-----------------------------------------\n",
      "Regressão Linear: novas features\n",
      "Erro quadrático médio: 210173649928.37\n",
      "R quadrado: 0.4952\n",
      "-----------------------------------------\n",
      "Árvore de Decisão\n",
      "Erro quadrático médio: 192918637177.59\n",
      "R quadrado: 0.5366\n"
     ]
    }
   ],
   "source": [
    "print('Regressão Linear')\n",
    "print('Erro quadrático médio: ' + str(round(erro_quadratico_regressao,2)))\n",
    "print('R quadrado: '+ str(round(r2_regressao,4)))\n",
    "print('-----------------------------------------')\n",
    "print('Regressão Linear: novas features')\n",
    "print('Erro quadrático médio: ' + str(round(erro_quadratico_regressao2,2)))\n",
    "print('R quadrado: '+ str(round(r2_regressao2,4)))\n",
    "print('-----------------------------------------')\n",
    "print('Árvore de Decisão')\n",
    "print('Erro quadrático médio: ' + str(round(erro_quadratico_arvore_decisao,2)))\n",
    "print('R quadrado: '+ str(round(r2_arvore_decisao,4)))"
   ]
  }
 ],
 "metadata": {
  "kernelspec": {
   "display_name": "Python 3 (ipykernel)",
   "language": "python",
   "name": "python3"
  },
  "language_info": {
   "codemirror_mode": {
    "name": "ipython",
    "version": 3
   },
   "file_extension": ".py",
   "mimetype": "text/x-python",
   "name": "python",
   "nbconvert_exporter": "python",
   "pygments_lexer": "ipython3",
   "version": "3.10.9"
  }
 },
 "nbformat": 4,
 "nbformat_minor": 4
}
