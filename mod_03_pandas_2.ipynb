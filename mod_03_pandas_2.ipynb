{
  "nbformat": 4,
  "nbformat_minor": 0,
  "metadata": {
    "colab": {
      "provenance": []
    },
    "kernelspec": {
      "name": "python3",
      "display_name": "Python 3"
    },
    "language_info": {
      "name": "python"
    }
  },
  "cells": [
    {
      "cell_type": "code",
      "execution_count": null,
      "metadata": {
        "id": "qODZsANs4bnJ"
      },
      "outputs": [],
      "source": [
        "# 01. importar biblioteca Pandas e filtrar warnings\n",
        "import pandas as pd\n",
        "from pandas.plotting import scatter_matrix\n",
        "\n",
        "import warnings\n",
        "warnings.filterwarnings('ignore')"
      ]
    },
    {
      "cell_type": "code",
      "source": [
        "#%% 02. importar folha de excel\n",
        "filepath = 'E:/PGADSE/11 - Machine Learning em Python (Nelson Pires)/Datasets/winequality.xls'\n",
        "\n",
        "df1 = pd.read_excel(filepath, sheet_name = 0)"
      ],
      "metadata": {
        "id": "LUDn5Sh84r_f"
      },
      "execution_count": null,
      "outputs": []
    },
    {
      "cell_type": "code",
      "source": [
        "#%% 03. renomeiar colunas\n",
        "df1.rename(columns={'type':'tipo'}, inplace=True)\n",
        "df1.rename(columns={'quality':'qualidade'}, inplace=True)"
      ],
      "metadata": {
        "id": "ABHQ5zsA4q4k"
      },
      "execution_count": null,
      "outputs": []
    },
    {
      "cell_type": "code",
      "source": [
        "#%% 04. obter informação da dataframe\n",
        "df1.head()\n",
        "df1.tail()\n",
        "df1.info()"
      ],
      "metadata": {
        "id": "xHnEbzUl4qCb"
      },
      "execution_count": null,
      "outputs": []
    },
    {
      "cell_type": "code",
      "source": [
        "#%% 05. calcular estatística sumária\n",
        "temp = df1.describe()\n",
        "df1[['pH','sulphates','alcohol']].describe()"
      ],
      "metadata": {
        "id": "p6_z847E4o8q"
      },
      "execution_count": null,
      "outputs": []
    },
    {
      "cell_type": "code",
      "source": [
        "#%% 06. modificar formatação do output\n",
        "pd.set_option('display.float_format', lambda x: '%.5f' % x)"
      ],
      "metadata": {
        "id": "F5VW5giz4n7a"
      },
      "execution_count": null,
      "outputs": []
    },
    {
      "cell_type": "code",
      "source": [
        "#%% 07. seleccionar linhas\n",
        "df1[15:18]"
      ],
      "metadata": {
        "id": "7bQ_eelM4nIw"
      },
      "execution_count": null,
      "outputs": []
    },
    {
      "cell_type": "code",
      "source": [
        "#%% 08. remover colunas\n",
        "df1.drop(['chlorides'], axis = 1, inplace = True)"
      ],
      "metadata": {
        "id": "d6-NQt2J4mUG"
      },
      "execution_count": null,
      "outputs": []
    },
    {
      "cell_type": "code",
      "source": [
        "#%% 09. operações entre colunas\n",
        "df1['RATIO'] = df1['sulphates'] / df1['alcohol'] # basic operation\n",
        "df1['RATIO'].head()"
      ],
      "metadata": {
        "id": "3bh67uyX4lj7"
      },
      "execution_count": null,
      "outputs": []
    },
    {
      "cell_type": "code",
      "source": [
        "#%% 10. seleccão de linhas aplicando critérios\n",
        "df1.query('13 < alcohol')\n",
        "df1.query('(13 < alcohol) & (volatile_acidity < 0.6)')"
      ],
      "metadata": {
        "id": "pHsqPe6n4kia"
      },
      "execution_count": null,
      "outputs": []
    },
    {
      "cell_type": "code",
      "source": [
        "#%% 11. correlação entre colunas\n",
        "matcorr = df1.corr()\n",
        "df1[['alcohol', 'pH']].corr()"
      ],
      "metadata": {
        "id": "ObIjfKYP4jvT"
      },
      "execution_count": null,
      "outputs": []
    },
    {
      "cell_type": "code",
      "source": [
        "#%% 12. identificação de NaN na dataframe\n",
        "df1.isnull().sum()"
      ],
      "metadata": {
        "id": "4Bzi9QOl4i4E"
      },
      "execution_count": null,
      "outputs": []
    },
    {
      "cell_type": "code",
      "source": [
        "#%% 13. isolar regiao de controlo e converter para binario\n",
        "control = df1.loc[df1['tipo'].isin(['white'])]\n",
        "control['qualidade'] = (control['qualidade'] >= 7).astype(int)\n",
        "\n",
        "control['qualidade'].sum()"
      ],
      "metadata": {
        "id": "NnXULOC14iET"
      },
      "execution_count": null,
      "outputs": []
    },
    {
      "cell_type": "code",
      "source": [
        "#%% 14. agrupar por valores e calcular estatísticas\n",
        "zonasel = df1.groupby(['tipo']).mean()\n",
        "\n",
        "\n",
        "#### PLOTTING ####\n",
        "#-----------------"
      ],
      "metadata": {
        "id": "DPRNM7Q84hRm"
      },
      "execution_count": null,
      "outputs": []
    },
    {
      "cell_type": "code",
      "source": [
        "#%% 15. gráficos de variáveis no Pandas\n",
        "control['alcohol'].plot() # x=indice, y=valor\n",
        "\n",
        "control[['fixed_acidity','volatile_acidity']].plot.hist(stacked=False, bins=200) # histograma\n",
        "\n",
        "control.plot.scatter(x='fixed_acidity', y='volatile_acidity') # scatter plot\n",
        "\n",
        "control.plot.scatter(x='fixed_acidity', \n",
        "                     y='volatile_acidity', \n",
        "                     c='alcohol', \n",
        "                     s=50, \n",
        "                     colormap='jet', \n",
        "                     grid='on')"
      ],
      "metadata": {
        "id": "xHOiPFxG4gOi"
      },
      "execution_count": null,
      "outputs": []
    },
    {
      "cell_type": "code",
      "source": [
        "#%% 16. Scatter Matrix no Pandas\n",
        "scatter_matrix(control[['fixed_acidity','volatile_acidity','alcohol']], \n",
        "               alpha=0.2, \n",
        "               figsize=(10,10), \n",
        "               diagonal='hist')\n",
        "             # diagonal='kde'"
      ],
      "metadata": {
        "id": "S-Y45boZ4fLj"
      },
      "execution_count": null,
      "outputs": []
    },
    {
      "cell_type": "code",
      "source": [
        "#%% 17. Integração do Pandas com o Seaborn\n",
        "import seaborn as sns\n",
        "sns.set(style='whitegrid') #whitegrid, dark, white, ticks\n",
        "\n",
        "sns.pairplot(control, \n",
        "             vars=control[['fixed_acidity','volatile_acidity','alcohol']], \n",
        "             hue='qualidade',\n",
        "             diag_kind='kde')"
      ],
      "metadata": {
        "id": "EM5UsIFQ4eKD"
      },
      "execution_count": null,
      "outputs": []
    },
    {
      "cell_type": "code",
      "source": [
        "#%% 18. exportar dataframe para csv e excel\n",
        "control.to_csv('exportdata.txt')\n",
        "control.to_excel('control.xls')"
      ],
      "metadata": {
        "id": "NCMMvPKp4dQq"
      },
      "execution_count": null,
      "outputs": []
    }
  ]
}