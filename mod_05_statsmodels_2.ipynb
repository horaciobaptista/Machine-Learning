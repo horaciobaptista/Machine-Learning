{
  "nbformat": 4,
  "nbformat_minor": 0,
  "metadata": {
    "colab": {
      "provenance": []
    },
    "kernelspec": {
      "name": "python3",
      "display_name": "Python 3"
    },
    "language_info": {
      "name": "python"
    }
  },
  "cells": [
    {
      "cell_type": "code",
      "execution_count": null,
      "metadata": {
        "id": "VmhdYFWy2urC"
      },
      "outputs": [],
      "source": [
        "# Exemplo retirado de https://www.geeksforgeeks.org/python-arima-model-for-time-series-forecasting/\n",
        "# importar bibliotecas necessarias\n",
        "import pandas as pd\n",
        "from statsmodels.tsa.seasonal import seasonal_decompose"
      ]
    },
    {
      "cell_type": "code",
      "source": [
        "from google.colab import files\n",
        "import io\n",
        "uploaded = files.upload()\n",
        "filename = io.BytesIO(uploaded['air_passengers.csv'])"
      ],
      "metadata": {
        "id": "O3rrxHSr3D_M"
      },
      "execution_count": null,
      "outputs": []
    },
    {
      "cell_type": "code",
      "source": [
        "# ler ficheiro csv com dados de passageiros\n",
        "airline = pd.read_csv(filename, index_col ='TravelDate', parse_dates = True)"
      ],
      "metadata": {
        "id": "cROE7kXS3OFx"
      },
      "execution_count": null,
      "outputs": []
    },
    {
      "cell_type": "code",
      "source": [
        "# explorar dataframe\n",
        "airline.head()\n",
        "airline.info()\n",
        "airline.plot()"
      ],
      "metadata": {
        "id": "QzdnU4Xn3Swv"
      },
      "execution_count": null,
      "outputs": []
    },
    {
      "cell_type": "code",
      "source": [
        "# decomposicao ETS (Error, Trend, Seasonality)\n",
        "result = seasonal_decompose(airline['Passengers'], model ='multiplicative')"
      ],
      "metadata": {
        "id": "Ny6I1whc3Wtk"
      },
      "execution_count": null,
      "outputs": []
    },
    {
      "cell_type": "code",
      "source": [
        "# ETS plot\n",
        "result.plot()"
      ],
      "metadata": {
        "id": "t7Z3Ozxs3a9O"
      },
      "execution_count": null,
      "outputs": []
    },
    {
      "cell_type": "code",
      "source": [
        "!pip install pmdarima # install package pmdarima"
      ],
      "metadata": {
        "id": "VFw9JaAl3hcq"
      },
      "execution_count": null,
      "outputs": []
    },
    {
      "cell_type": "code",
      "source": [
        "from pmdarima import auto_arima\n",
        "\n",
        "import warnings\n",
        "warnings.filterwarnings(\"ignore\")"
      ],
      "metadata": {
        "id": "QAkKPLD94TzP"
      },
      "execution_count": null,
      "outputs": []
    },
    {
      "cell_type": "code",
      "source": [
        "# ajustar funcao auto_arima ao dataset \n",
        "stepwise_fit = auto_arima(airline['Passengers'], start_p = 1, start_q = 1,\n",
        "\t\t\t\t\t\tmax_p = 3, max_q = 3, m = 12,\n",
        "\t\t\t\t\t\tstart_P = 0, seasonal = True,\n",
        "\t\t\t\t\t\td = None, D = 1, trace = True,\n",
        "\t\t\t\t\t\terror_action ='ignore',   # we don't want to know if an order does not work\n",
        "\t\t\t\t\t\tsuppress_warnings = True, # we don't want convergence warnings\n",
        "\t\t\t\t\t\tstepwise = True)\t\t  # set to stepwise"
      ],
      "metadata": {
        "id": "YJGE5ODJ4X_r"
      },
      "execution_count": null,
      "outputs": []
    },
    {
      "cell_type": "code",
      "source": [
        "# imprimir relatorio do ajuste\n",
        "stepwise_fit.summary()"
      ],
      "metadata": {
        "id": "WH-h7BYL4e5m"
      },
      "execution_count": null,
      "outputs": []
    },
    {
      "cell_type": "code",
      "source": [
        "#%% dividir em dataset de treino e teste\n",
        "train = airline.iloc[:len(airline)-12] # retirar os últimos 12 meses do dataset\n",
        "test = airline.iloc[len(airline)-12:]  # 12 meses para o dataset de teste"
      ],
      "metadata": {
        "id": "DEukDiku4lrb"
      },
      "execution_count": null,
      "outputs": []
    },
    {
      "cell_type": "code",
      "source": [
        "# ajustar SARIMAX(0, 1, 1)x(2, 1, 0, 12) ao dataset de treino\n",
        "from statsmodels.tsa.statespace.sarimax import SARIMAX\n",
        "\n",
        "model = SARIMAX(train['Passengers'],\n",
        "\t\t\t\torder = (0, 1, 1),\n",
        "\t\t\t\tseasonal_order =(2, 1, 0, 12))\n",
        "\n",
        "result = model.fit()\n",
        "result.summary()\n",
        "\n",
        "result.resid.plot(kind='kde')"
      ],
      "metadata": {
        "id": "vKYMhDql4t_-"
      },
      "execution_count": null,
      "outputs": []
    },
    {
      "cell_type": "code",
      "source": [
        "#%% calcular previsoes com o modelo ARIMA e comparar com dataset de teste\n",
        "start = len(train)\n",
        "end = len(train) + len(test) - 1"
      ],
      "metadata": {
        "id": "UahvZNsJ42ok"
      },
      "execution_count": null,
      "outputs": []
    },
    {
      "cell_type": "code",
      "source": [
        "# previsoes para um ano contra dataset de teste\n",
        "predictions = result.predict(start, end, typ = 'levels').rename(\"Predictions\")"
      ],
      "metadata": {
        "id": "bFZs8YdB4_Vj"
      },
      "execution_count": null,
      "outputs": []
    },
    {
      "cell_type": "code",
      "source": [
        "# plotar previsoes e valores reais do dataset de teste\n",
        "predictions.plot(legend = True)\n",
        "test['Passengers'].plot(legend = True)"
      ],
      "metadata": {
        "id": "x25grr645EX9"
      },
      "execution_count": null,
      "outputs": []
    },
    {
      "cell_type": "code",
      "source": [
        "#%% avaliar o modelo com MSE e RMSE\n",
        "from sklearn.metrics import mean_squared_error\n",
        "from statsmodels.tools.eval_measures import rmse"
      ],
      "metadata": {
        "id": "afnXo6y25K8x"
      },
      "execution_count": null,
      "outputs": []
    },
    {
      "cell_type": "code",
      "source": [
        "# calcular root mean squared error\n",
        "rmse(test[\"Passengers\"], predictions)"
      ],
      "metadata": {
        "id": "V-eW4yl85OJO"
      },
      "execution_count": null,
      "outputs": []
    },
    {
      "cell_type": "code",
      "source": [
        "# calcular mean squared error\n",
        "mean_squared_error(test[\"Passengers\"], predictions)"
      ],
      "metadata": {
        "id": "GcO7H5_q5WPe"
      },
      "execution_count": null,
      "outputs": []
    },
    {
      "cell_type": "code",
      "source": [
        "#%% calcular novas prevsioes como modelo ARIMA\n",
        "# treinar o modelo com todo o dataset\n",
        "model = model = SARIMAX(airline['Passengers'],\n",
        "\t\t\t\t\t\torder = (0, 1, 1),\n",
        "\t\t\t\t\t\tseasonal_order =(2, 1, 0, 12))\n",
        "result = model.fit()\n",
        "result.summary() "
      ],
      "metadata": {
        "id": "3WlpiSbI5bWj"
      },
      "execution_count": null,
      "outputs": []
    },
    {
      "cell_type": "code",
      "source": [
        "# calcular novas previsoes para os 4 anos seguintes\n",
        "forecast = result.predict(start = len(airline),\n",
        "\t\t\t\t\t\tend = (len(airline)-1) + 4 * 12,\n",
        "\t\t\t\t\t\ttyp = 'levels').rename('Forecast')"
      ],
      "metadata": {
        "id": "EywdR2305qW8"
      },
      "execution_count": null,
      "outputs": []
    },
    {
      "cell_type": "code",
      "source": [
        "# plotar previsoes\n",
        "airline['Passengers'].plot(legend = True)\n",
        "forecast.plot(legend = True)"
      ],
      "metadata": {
        "id": "VyZGxpLz5t70"
      },
      "execution_count": null,
      "outputs": []
    }
  ]
}