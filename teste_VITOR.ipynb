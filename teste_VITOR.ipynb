{
  "nbformat": 4,
  "nbformat_minor": 0,
  "metadata": {
    "colab": {
      "provenance": [],
      "authorship_tag": "ABX9TyMKE1EVLmsvnbXgrOcfXuEf",
      "include_colab_link": true
    },
    "kernelspec": {
      "name": "python3",
      "display_name": "Python 3"
    },
    "language_info": {
      "name": "python"
    }
  },
  "cells": [
    {
      "cell_type": "markdown",
      "metadata": {
        "id": "view-in-github",
        "colab_type": "text"
      },
      "source": [
        "<a href=\"https://colab.research.google.com/github/horaciobaptista/Machine-Learning/blob/main/teste_VITOR.ipynb\" target=\"_parent\"><img src=\"https://colab.research.google.com/assets/colab-badge.svg\" alt=\"Open In Colab\"/></a>"
      ]
    },
    {
      "cell_type": "code",
      "execution_count": 10,
      "metadata": {
        "id": "xXscTvvRQUTq"
      },
      "outputs": [],
      "source": [
        "#%%\n",
        "\"\"\"\n",
        "Created on Sat Jun 3 09:19:49 2023\n",
        "@author: Vítor Peixoto\n",
        "\"\"\"\n",
        "#%% Import de packages para todos os exercícios\n",
        "import pandas as pd\n",
        "import matplotlib.pyplot as plt\n",
        "from sklearn.model_selection import train_test_split\n",
        "from sklearn import metrics\n",
        "from sklearn.ensemble import RandomForestRegressor\n",
        "from sklearn.metrics import r2_score\n",
        "import seaborn as sns\n",
        "from sklearn.linear_model import LinearRegression\n",
        "from sklearn.feature_selection import RFE\n",
        "import warnings\n",
        "warnings.filterwarnings('ignore')\n"
      ]
    },
    {
      "cell_type": "code",
      "source": [
        "#%% Exercício 6\n",
        "df = pd.read_csv(\"mpg_dataset.csv\")\n",
        "df.dropna(inplace=True)\n",
        "df.describe()\n"
      ],
      "metadata": {
        "id": "kCbpUlHDQgdF"
      },
      "execution_count": null,
      "outputs": []
    },
    {
      "cell_type": "code",
      "source": [
        "#%% Exercício 7\n",
        "ex7 = df.query(\"Origin == 'Europe' and Weight > 3500\")\n",
        "print(ex7)\n"
      ],
      "metadata": {
        "id": "EOCyXL4yQh1-"
      },
      "execution_count": null,
      "outputs": []
    },
    {
      "cell_type": "code",
      "source": [
        "#%% Exercício 8\n",
        "features = ['Cylinders', 'Displacement', 'Horsepower', 'Weight', 'Acceleration']\n",
        "sns.pairplot(df[features], diag_kind=\"kde\")\n",
        "plt.show\n"
      ],
      "metadata": {
        "id": "w_s0cQbNQi8l"
      },
      "execution_count": null,
      "outputs": []
    },
    {
      "cell_type": "code",
      "source": [
        "#%% Exercício 9\n",
        "cor = df[features].corr()\n",
        "sns.heatmap(cor, annot=True, cmap=\"coolwarm\")\n",
        "plt.show()\n"
      ],
      "metadata": {
        "id": "ejarzaJ4QkMk"
      },
      "execution_count": null,
      "outputs": []
    },
    {
      "cell_type": "code",
      "source": [
        "#%% Exercício 10\n",
        "X = df[features]\n",
        "y = df['MPG']\n",
        "X.var()\n",
        "LR = LinearRegression()\n",
        "RFE = RFE(estimator=LR, n_features_to_select=3, step=1)\n",
        "RFE.fit(X, y)\n",
        "selected_features = X.columns[RFE.support_]\n",
        "RFE.ranking_\n"
      ],
      "metadata": {
        "id": "JzwF122RQk_c"
      },
      "execution_count": null,
      "outputs": []
    },
    {
      "cell_type": "code",
      "source": [
        "#%% Exercício 11, 12\n",
        "select = ['Cylinders', 'Horsepower', 'Acceleration']\n",
        "df1 = df[select]\n",
        "target =df['MPG']\n",
        "x_train, x_test, y_train, y_test = train_test_split(df1,\n",
        "target,test_size=0.3,\n",
        "random_state=0)\n",
        "rfr = RandomForestRegressor(random_state=0).fit(x_train, y_train)\n",
        "y_pred = rfr.predict(df1)\n",
        "round(rfr.score(x_test, y_test), 4)\n",
        "for col, val in sorted(zip(x_train.columns, rfr.feature_importances_),\n",
        "key=lambda x: x[1], reverse=True)[:11]:\n",
        "  print(f\"{col:10}{val:10.3f}\")\n",
        "mae = metrics.mean_absolute_error(target, y_pred)\n",
        "r2 = r2_score(target, y_pred)\n",
        "rmse = metrics.mean_squared_error(target, y_pred)\n",
        "print(\"R-squared (R2):\", r2)\n",
        "print(\"MAE:\", mae)\n",
        "print(\"RMSE:\", rmse)\n",
        "fin = ['Cylinders', 'Horsepower', 'Acceleration', 'MPG']\n",
        "dfsel = df[fin]\n",
        "dfsel['pred'] = y_pred\n",
        "dfsel['dif'] = dfsel['MPG'] - dfsel['pred']\n",
        "dfsel['dif'].plot.hist(stacked=False)\n",
        "plt.show()"
      ],
      "metadata": {
        "id": "awGuq0LXQl12"
      },
      "execution_count": null,
      "outputs": []
    }
  ]
}