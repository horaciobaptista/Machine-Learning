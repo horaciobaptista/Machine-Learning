{
  "nbformat": 4,
  "nbformat_minor": 0,
  "metadata": {
    "colab": {
      "provenance": [],
      "authorship_tag": "ABX9TyOFl0qC1RuPn0nNR63EqkKn",
      "include_colab_link": true
    },
    "kernelspec": {
      "name": "python3",
      "display_name": "Python 3"
    },
    "language_info": {
      "name": "python"
    }
  },
  "cells": [
    {
      "cell_type": "markdown",
      "metadata": {
        "id": "view-in-github",
        "colab_type": "text"
      },
      "source": [
        "<a href=\"https://colab.research.google.com/github/horaciobaptista/Scikit-Learn/blob/main/mod_02_matplotlib.ipynb\" target=\"_parent\"><img src=\"https://colab.research.google.com/assets/colab-badge.svg\" alt=\"Open In Colab\"/></a>"
      ]
    },
    {
      "cell_type": "code",
      "execution_count": null,
      "metadata": {
        "id": "pGOcDn4M0uTx"
      },
      "outputs": [],
      "source": [
        "import numpy as np\n",
        "import matplotlib.pyplot as plt"
      ]
    },
    {
      "cell_type": "code",
      "source": [
        "#%% plot 1 \n",
        "x = np.linspace(0, 2, 100)\n",
        "\n",
        "plt.plot(x, x, label='linear')\n",
        "plt.plot(x, x**2, label='quadratic')\n",
        "plt.plot(x, x**3, label='cubic')\n",
        "\n",
        "plt.xlabel('eixo X')\n",
        "plt.ylabel('eixo Y')\n",
        "plt.title(\"Gráfico Simples\")\n",
        "plt.legend()\n",
        "plt.show()"
      ],
      "metadata": {
        "id": "9AxRi94o1AzS"
      },
      "execution_count": null,
      "outputs": []
    },
    {
      "cell_type": "code",
      "source": [
        "#%% plot 2\n",
        "x = np.arange(0, 10, 0.2)\n",
        "y = np.sin(x)\n",
        "\n",
        "plt.plot(x, y)\n",
        "plt.show()"
      ],
      "metadata": {
        "id": "gKiIHlYk1Coa"
      },
      "execution_count": null,
      "outputs": []
    },
    {
      "cell_type": "code",
      "source": [
        "#%% plot 3\n",
        "plt.plot([1, 2, 3, 4])\n",
        "plt.ylabel('y_axis')\n",
        "plt.show()"
      ],
      "metadata": {
        "id": "tISaqsAe1Lyc"
      },
      "execution_count": null,
      "outputs": []
    },
    {
      "cell_type": "code",
      "source": [
        "#%% plot 4\n",
        "plt.plot([1, 2, 3, 4], [1, 4, 9, 16])\n",
        "plt.show()"
      ],
      "metadata": {
        "id": "jNRb4q3k1QMS"
      },
      "execution_count": null,
      "outputs": []
    },
    {
      "cell_type": "code",
      "source": [
        "#%% plot 5\n",
        "plt.plot([1, 2, 3, 4], [1, 4, 9, 16], color='red', marker='o')\n",
        "plt.axis([0, 6, 0, 20])\n",
        "plt.show()"
      ],
      "metadata": {
        "id": "VohImckT1StK"
      },
      "execution_count": null,
      "outputs": []
    },
    {
      "cell_type": "code",
      "source": [
        "#%% plot 6\n",
        "plt.plot([1, 2, 3, 4], [1, 4, 9, 16], 'ro')\n",
        "plt.axis([0, 6, 0, 20])\n",
        "plt.show()"
      ],
      "metadata": {
        "id": "9JA0Krjs1xYk"
      },
      "execution_count": null,
      "outputs": []
    },
    {
      "cell_type": "code",
      "source": [
        "#%% plot 7\n",
        "t = np.arange(0, 5, 0.2)\n",
        "\n",
        "# tracejado vermelho, quadrado azuis e triângulos verdes\n",
        "plt.plot(t, t, 'r--', t, t**2, 'bs', t, t**3, 'g^')\n",
        "plt.show()"
      ],
      "metadata": {
        "id": "JZN86O1-1wdO"
      },
      "execution_count": null,
      "outputs": []
    },
    {
      "cell_type": "code",
      "source": [
        "#%% plot 8\n",
        "plt.plot(t, t, linestyle = '--', color ='orange', linewidth = 4)\n",
        "plt.show()"
      ],
      "metadata": {
        "id": "6Yn2kDnq1vSp"
      },
      "execution_count": null,
      "outputs": []
    },
    {
      "cell_type": "code",
      "source": [
        "#%% plot 9\n",
        "matlist = {'a': np.arange(50),\n",
        "           'c': np.random.randint(0, 50, 50),\n",
        "           'd': np.random.randn(50)}\n",
        "\n",
        "matlist['b'] = matlist['a'] + 10 * np.random.randn(50)\n",
        "matlist['d'] = np.abs(matlist['d']) * 100\n",
        "\n",
        "plt.scatter('a', 'b', c='c', s='d', data=matlist)\n",
        "plt.xlabel('entry a')\n",
        "plt.ylabel('entry b')\n",
        "plt.show()"
      ],
      "metadata": {
        "id": "CKNzIGJA1t7R"
      },
      "execution_count": null,
      "outputs": []
    },
    {
      "cell_type": "code",
      "source": [
        "#%% plot 10\n",
        "r = np.arange(0, 2, 0.01)\n",
        "theta = 2 * np.pi * r\n",
        "\n",
        "ax = plt.subplot(111, projection='polar')\n",
        "ax.plot(theta, r)\n",
        "ax.set_rticks([0.5, 1, 1.5, 2])\n",
        "ax.grid(True)\n",
        "\n",
        "ax.set_title(\"Gráfico Polar\")\n",
        "plt.show()"
      ],
      "metadata": {
        "id": "8hx8CWKK1slR"
      },
      "execution_count": null,
      "outputs": []
    },
    {
      "cell_type": "code",
      "source": [
        "#%% plot 11 (gravar figura para ficheiro)\n",
        "def f(t):\n",
        "    return np.exp(-t) * np.cos(2*np.pi*t)\n",
        "\n",
        "t1 = np.arange(0.0, 5.0, 0.1)\n",
        "t2 = np.arange(0.0, 5.0, 0.02)\n",
        "\n",
        "plt.figure(1)\n",
        "plt.subplot(121)\n",
        "plt.plot(t1, f(t1), 'bo', t2, f(t2), 'g')\n",
        "\n",
        "plt.subplot(122)\n",
        "plt.plot(t2, np.cos(2*np.pi*t2), 'r--')\n",
        "\n",
        "plt.savefig('/home/npires/Desktop/' +\n",
        "            'elearning/python_intro/praticas/test.png', dpi=300, bbox_inches='tight')\n",
        "plt.show()"
      ],
      "metadata": {
        "id": "Ld2Xbz-f1ql1"
      },
      "execution_count": null,
      "outputs": []
    },
    {
      "cell_type": "code",
      "source": [
        "#%% plot 12\n",
        "np.random.seed(23)\n",
        "\n",
        "mu, sigma = 100, 15\n",
        "x = mu + sigma * np.random.randn(10000)\n",
        "\n",
        "# the histogram of the data\n",
        "n, bins, patches = plt.hist(x, 50, density=True, facecolor='g', alpha=0.75)\n",
        "\n",
        "plt.xlabel('Smarts')\n",
        "plt.ylabel('Probability')\n",
        "plt.title('Histogram of IQ')\n",
        "plt.text(60, .025, r'$\\mu=100,\\ \\sigma=15$')\n",
        "plt.axis([40, 160, 0, 0.03])\n",
        "plt.grid(True)\n",
        "plt.show()"
      ],
      "metadata": {
        "id": "hOrfV18O1pk4"
      },
      "execution_count": null,
      "outputs": []
    },
    {
      "cell_type": "code",
      "source": [
        "#%% plot 13 (seaborn)\n",
        "import seaborn as sns\n",
        "sns.set(style=\"ticks\") #whitegrid, dark, white, thicks\n",
        "\n",
        "# Load the example dataset for Anscombe's quartet\n",
        "df = sns.load_dataset(\"anscombe\")\n",
        "\n",
        "# Show the results of a linear regression within each dataset\n",
        "sns.lmplot(x=\"x\", y=\"y\", col=\"dataset\", hue=\"dataset\", data=df,\n",
        "           col_wrap=2, ci=None, palette=\"muted\", size=4,\n",
        "           scatter_kws={\"s\": 50, \"alpha\": 1})\n",
        "plt.show()"
      ],
      "metadata": {
        "id": "eDyX6FOW1ogy"
      },
      "execution_count": null,
      "outputs": []
    },
    {
      "cell_type": "code",
      "source": [
        "#%% plot 14\n",
        "rs = np.random.RandomState(11)\n",
        "x = rs.gamma(2, size=1000)\n",
        "y = -.5 * x + rs.normal(size=1000)\n",
        "\n",
        "sns.jointplot(x, y, kind=\"hex\", color=\"#4CB391\")\n",
        "plt.show()"
      ],
      "metadata": {
        "id": "X-N-h0lV1nhs"
      },
      "execution_count": null,
      "outputs": []
    },
    {
      "cell_type": "code",
      "source": [
        "#%% plot 15\n",
        "sns.set(style=\"white\", palette=\"muted\", color_codes=True)\n",
        "rs = np.random.RandomState(10)\n",
        "\n",
        "# Set up the matplotlib figure\n",
        "f, axes = plt.subplots(2, 2, figsize=(7, 7), sharex=True)\n",
        "sns.despine(left=True)\n",
        "\n",
        "# Generate a random univariate dataset\n",
        "d = rs.normal(size=100)\n",
        "\n",
        "# Plot a simple histogram with binsize determined automatically\n",
        "sns.distplot(d, kde=False, color=\"b\", ax=axes[0, 0])\n",
        "\n",
        "# Plot a kernel density estimate and rug plot\n",
        "sns.distplot(d, hist=False, rug=True, color=\"r\", ax=axes[0, 1])\n",
        "\n",
        "# Plot a filled kernel density estimate\n",
        "sns.distplot(d, hist=False, color=\"g\", kde_kws={\"shade\": True}, ax=axes[1, 0])\n",
        "\n",
        "# Plot a histogram and kernel density estimate\n",
        "sns.distplot(d, color=\"m\", ax=axes[1, 1])\n",
        "\n",
        "plt.setp(axes, yticks=[])\n",
        "plt.tight_layout()"
      ],
      "metadata": {
        "id": "mVdOIY0e1mRB"
      },
      "execution_count": null,
      "outputs": []
    }
  ]
}