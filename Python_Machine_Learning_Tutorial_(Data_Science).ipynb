{
  "nbformat": 4,
  "nbformat_minor": 0,
  "metadata": {
    "colab": {
      "provenance": [],
      "authorship_tag": "ABX9TyPfiS4VFEIWI5EQdKNbPjHq",
      "include_colab_link": true
    },
    "kernelspec": {
      "name": "python3",
      "display_name": "Python 3"
    },
    "language_info": {
      "name": "python"
    }
  },
  "cells": [
    {
      "cell_type": "markdown",
      "metadata": {
        "id": "view-in-github",
        "colab_type": "text"
      },
      "source": [
        "<a href=\"https://colab.research.google.com/github/horaciobaptista/Machine-Learning/blob/main/Python_Machine_Learning_Tutorial_(Data_Science).ipynb\" target=\"_parent\"><img src=\"https://colab.research.google.com/assets/colab-badge.svg\" alt=\"Open In Colab\"/></a>"
      ]
    },
    {
      "cell_type": "code",
      "execution_count": 58,
      "metadata": {
        "id": "4XfDBbQzSzmp"
      },
      "outputs": [],
      "source": [
        "import pandas as pd\n",
        "from sklearn.tree import DecisionTreeClassifier\n",
        "from sklearn.model_selection import train_test_split\n",
        "from sklearn.metrics import accuracy_score\n",
        "#from sklearn.externals\n",
        "import joblib\n",
        "from sklearn import tree\n",
        "\n",
        "music_data = pd.read_csv('music.csv')\n",
        "X = music_data.drop(columns=['genre'])\n",
        "y = music_data['genre']\n",
        "# X_train, X_test, y_train, y_test = train_test_split(X, y, test_size=0.2)\n",
        "\n",
        "model = DecisionTreeClassifier()\n",
        "model.fit(X, y)\n",
        "# model.fit(X_train, y_train)\n",
        "# predictions = model.predict(X_test)\n",
        "\n",
        "tree.export_graphviz(model, out_file='music-recommender.dot',\n",
        "                     feature_names=['age','gender'],\n",
        "                     class_names=sorted(y.unique()),\n",
        "                     label='all',\n",
        "                     rounded=True,\n",
        "                     filled=True)\n",
        "\n",
        "# joblib.dump(model, 'music-recommender.joblib')\n",
        "# model = joblib.load('music-recommender.joblib')\n",
        "# predictions = model.predict([[5,0]])\n",
        "# predictions\n",
        "\n",
        "# score = accuracy_score(y_test, predictions)\n",
        "# score"
      ]
    }
  ]
}